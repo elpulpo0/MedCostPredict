{
 "cells": [
  {
   "cell_type": "code",
   "execution_count": 2,
   "metadata": {},
   "outputs": [
    {
     "name": "stdout",
     "output_type": "stream",
     "text": [
      "Count of patients by sex: [('female', 662), ('male', 676)]\n",
      "Count of smokers vs non-smokers: [('no', 1064), ('yes', 274)]\n",
      "Unique regions: [('southwest',), ('southeast',), ('northwest',), ('northeast',)]\n"
     ]
    }
   ],
   "source": [
    "import sqlite3\n",
    "\n",
    "# Connexion à la base de données\n",
    "conn = sqlite3.connect(\"../../patients.db\")\n",
    "cursor = conn.cursor()\n",
    "\n",
    "# Vérifier le nombre de patients par sexe\n",
    "cursor.execute(\n",
    "    \"SELECT sexe, COUNT(*) FROM Sexe JOIN Patient ON Sexe.id_sex = Patient.sex GROUP BY sexe\"\n",
    ")\n",
    "sex_count = cursor.fetchall()\n",
    "\n",
    "# Vérifier le nombre de fumeurs et non-fumeurs\n",
    "cursor.execute(\n",
    "    \"SELECT fumeur, COUNT(*) FROM Fumeur JOIN Patient ON Fumeur.id_smoker = Patient.smoker GROUP BY fumeur\"\n",
    ")\n",
    "smoker_count = cursor.fetchall()\n",
    "\n",
    "# Vérifier les valeurs uniques de régions\n",
    "cursor.execute(\"SELECT DISTINCT region FROM Region\")\n",
    "regions = cursor.fetchall()\n",
    "\n",
    "# Fermeture de la connexion\n",
    "conn.close()\n",
    "\n",
    "# Afficher les résultats\n",
    "print(\"Count of patients by sex:\", sex_count)\n",
    "print(\"Count of smokers vs non-smokers:\", smoker_count)\n",
    "print(\"Unique regions:\", regions)"
   ]
  },
  {
   "cell_type": "code",
   "execution_count": null,
   "metadata": {},
   "outputs": [],
   "source": [
    "import sqlite3\n",
    "import pandas as pd\n",
    "import matplotlib.pyplot as plt\n",
    "import seaborn as sns\n",
    "\n",
    "# Connexion à la base de données\n",
    "conn = sqlite3.connect(\"../../patients.db\")\n",
    "cursor = conn.cursor()\n",
    "\n",
    "# Charger les données sur le sexe des patients\n",
    "cursor.execute(\n",
    "    \"SELECT Sexe.sexe, COUNT(*) FROM Sexe JOIN Patient ON Sexe.id_sex = Patient.id_sex GROUP BY Sexe.sexe\"\n",
    ")\n",
    "sex_data = cursor.fetchall()\n",
    "\n",
    "# Charger les données sur le statut de fumeur\n",
    "cursor.execute(\n",
    "    \"SELECT Fumeur.fumeur, COUNT(*) FROM Fumeur JOIN Patient ON Fumeur.id_smoker = Patient.smoker GROUP BY Fumeur.fumeur\"\n",
    ")\n",
    "smoker_data = cursor.fetchall()\n",
    "\n",
    "# Charger les données sur les régions\n",
    "cursor.execute(\n",
    "    \"SELECT Region.region, COUNT(*) FROM Region JOIN Patient ON Region.id_region = Patient.region GROUP BY Region.region\"\n",
    ")\n",
    "region_data = cursor.fetchall()\n",
    "\n",
    "# Convertir en DataFrame pour faciliter l'analyse\n",
    "df_sex = pd.DataFrame(sex_data, columns=[\"Sexe\", \"Count\"])\n",
    "df_smoker = pd.DataFrame(smoker_data, columns=[\"Smoker\", \"Count\"])\n",
    "df_region = pd.DataFrame(region_data, columns=[\"Region\", \"Count\"])\n",
    "\n",
    "# Visualiser la répartition des sexes\n",
    "plt.figure(figsize=(10, 6))\n",
    "sns.barplot(data=df_sex, x=\"Sexe\", y=\"Count\")\n",
    "plt.title(\"Répartition des sexes\")\n",
    "plt.ylabel(\"Nombre de patients\")\n",
    "plt.show()\n",
    "\n",
    "# Visualiser la répartition des fumeurs\n",
    "plt.figure(figsize=(10, 6))\n",
    "sns.barplot(data=df_smoker, x=\"Smoker\", y=\"Count\")\n",
    "plt.title(\"Répartition des fumeurs\")\n",
    "plt.ylabel(\"Nombre de patients\")\n",
    "plt.show()\n",
    "\n",
    "# Visualiser la répartition des régions\n",
    "plt.figure(figsize=(10, 6))\n",
    "sns.barplot(data=df_region, x=\"Region\", y=\"Count\")\n",
    "plt.title(\"Répartition des régions\")\n",
    "plt.ylabel(\"Nombre de patients\")\n",
    "plt.show()\n",
    "\n",
    "# Fermeture de la connexion\n",
    "conn.close()"
   ]
  }
 ],
 "metadata": {
  "kernelspec": {
   "display_name": ".venv",
   "language": "python",
   "name": "python3"
  },
  "language_info": {
   "codemirror_mode": {
    "name": "ipython",
    "version": 3
   },
   "file_extension": ".py",
   "mimetype": "text/x-python",
   "name": "python",
   "nbconvert_exporter": "python",
   "pygments_lexer": "ipython3",
   "version": "3.12.4"
  }
 },
 "nbformat": 4,
 "nbformat_minor": 2
}
